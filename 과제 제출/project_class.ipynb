{
 "cells": [
  {
   "cell_type": "code",
   "execution_count": 27,
   "id": "cbcf20b6-be83-448e-9827-1ac3a631dc92",
   "metadata": {},
   "outputs": [],
   "source": [
    "# 클래스 선언\n",
    "class Person:\n",
    "    # attribute 설정\n",
    "    def __init__(self, name: str, gender: str, age: int):\n",
    "        self.name = name\n",
    "        self.age = age\n",
    "        self.gender = gender\n",
    "        # 입력 값이 male, female이 아니면 오류\n",
    "        if self.gender not in {\"male\", \"female\"}:\n",
    "            raise ValueError()\n",
    "    # 반환 값 포맷으로 설정\n",
    "    def display(self):\n",
    "        return f\"이름: {self.name}\\n성별: {self.gender}\\n나이: {self.age}\""
   ]
  },
  {
   "cell_type": "code",
   "execution_count": 35,
   "id": "8d7062b2-78e9-409c-a64d-516e5b741160",
   "metadata": {},
   "outputs": [
    {
     "name": "stdout",
     "output_type": "stream",
     "text": [
      "정보를 입력하세요\n"
     ]
    },
    {
     "name": "stdin",
     "output_type": "stream",
     "text": [
      "Name:  r\n",
      "Sex:  male\n",
      "Age:  10\n"
     ]
    },
    {
     "name": "stdout",
     "output_type": "stream",
     "text": [
      "\n",
      "이름: r\n",
      "성별: male\n",
      "나이: 10\n"
     ]
    }
   ],
   "source": [
    "# 유저가 직접 종류하기 전 까지 계속 작동되게 loop 설정\n",
    "while True:\n",
    "    print(\"정보를 입력하세요\")\n",
    "    # 입력 값이 오류 예외 처리를 위해 try문\n",
    "    try:\n",
    "        # 이름 입력\n",
    "        n = input(\"Name: \")\n",
    "        # 성별 입력\n",
    "        g = input(\"Sex: \")\n",
    "        # 입력 값이 male, female이 아니면 오류 발생 시키기\n",
    "        if g not in {'male', 'female'}:\n",
    "            raise ValueError()\n",
    "        # 나이 입력. str에서 int로 타입변환\n",
    "        a = int(input(\"Age: \"))\n",
    "        # 위에서 정의한 display로 정해진 양식 출력\n",
    "        dis = Person(n, g, a)\n",
    "        print(\"\")    # 입력 부분과 구분을 위해 한 줄 띄기\n",
    "        print(dis.display())\n",
    "        #loop 닫기\n",
    "        break\n",
    "    # 입력 값 오류 예외 리리\n",
    "    except ValueError:\n",
    "        print(\"오류! 정보를 올바르게 입력하세요\")"
   ]
  },
  {
   "cell_type": "code",
   "execution_count": null,
   "id": "f660e144-17d2-4401-8e84-8fc2f0849e7f",
   "metadata": {},
   "outputs": [],
   "source": []
  }
 ],
 "metadata": {
  "kernelspec": {
   "display_name": "Python 3 (ipykernel)",
   "language": "python",
   "name": "python3"
  },
  "language_info": {
   "codemirror_mode": {
    "name": "ipython",
    "version": 3
   },
   "file_extension": ".py",
   "mimetype": "text/x-python",
   "name": "python",
   "nbconvert_exporter": "python",
   "pygments_lexer": "ipython3",
   "version": "3.12.7"
  }
 },
 "nbformat": 4,
 "nbformat_minor": 5
}
